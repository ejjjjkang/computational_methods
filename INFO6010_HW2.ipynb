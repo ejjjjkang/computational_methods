{
  "cells": [
    {
      "cell_type": "markdown",
      "metadata": {
        "id": "view-in-github",
        "colab_type": "text"
      },
      "source": [
        "<a href=\"https://colab.research.google.com/github/ejjjjkang/computational_methods/blob/main/INFO6010_HW2.ipynb\" target=\"_parent\"><img src=\"https://colab.research.google.com/assets/colab-badge.svg\" alt=\"Open In Colab\"/></a>"
      ]
    },
    {
      "cell_type": "markdown",
      "id": "aeb1fafd",
      "metadata": {
        "id": "aeb1fafd"
      },
      "source": [
        "# INFO 6010 Homework: hypothesis testing and distributions\n",
        "\n",
        "The goal of this homework is to get familiar with how we can use cumulative distribution functions (CDFs) to build a case that an observation is or is not consistent with what we would expect from a certain distribution.\n",
        "\n",
        "In most cases we are trying to determine if there is a simple, boring explanation for the particular observation. We might hope to show that something is consistent with an assumption of normality to reassure a reviewer. Or we might want to show that an observed sample is unlikely to have a mean that is equal to zero."
      ]
    },
    {
      "cell_type": "code",
      "execution_count": null,
      "id": "6da0326c",
      "metadata": {
        "id": "6da0326c"
      },
      "outputs": [],
      "source": [
        "import numpy as np\n",
        "import pandas as pd\n",
        "import seaborn\n",
        "from matplotlib import pyplot\n",
        "\n",
        "from scipy.stats import norm as normal_dist\n",
        "from scipy.stats import expon as exponential_dist0\n",
        "from scipy.stats import t as t_dist\n",
        "from scipy.stats import uniform as uniform_dist\n",
        "from scipy.stats import tstd\n",
        "\n",
        "from scipy.stats import ttest_1samp, ttest_ind\n",
        "\n",
        "import scipy.special"
      ]
    },
    {
      "cell_type": "markdown",
      "id": "eeb9b081",
      "metadata": {
        "id": "eeb9b081"
      },
      "source": [
        "## Part 0: progress log\n",
        "\n",
        "Keep a log of what you found difficult or any bugs that you encountered. Note anything or any person who helped you get unstuck.\n",
        "\n",
        "\n"
      ]
    },
    {
      "cell_type": "markdown",
      "id": "e0376f87",
      "metadata": {
        "id": "e0376f87"
      },
      "source": [
        "**Answer here**\n",
        "\n",
        "> I got specifically stucked when I conduct part 2 and part 3 in describing the results. I got advise from Infosci graduate students in terms of expression and direction of the solution flow. Other than that, I did not work with others for making same results. \\\\\n",
        "\n",
        "> In terms of resources, I usually referred to documentation of scipy and other documents describing t-test and qq plot. The most helpful resource was videos describing conceptual background of statistics (https://www.youtube.com/watch?v=IFKQLDmRK0Y&t=188s&ab_channel=StatQuestwithJoshStarmer). \n",
        "\n",
        "> Overall, it first seems easy but not easy actually, I've realized I am lacking the fundermental background for it, and learn a lot through assignment.\n",
        "\n"
      ]
    },
    {
      "cell_type": "markdown",
      "id": "2b3f8570",
      "metadata": {
        "id": "2b3f8570"
      },
      "source": [
        "## Part 1: QQ plots (30 pts)\n",
        "\n",
        "A QQ plot is a way of comparing the actual *order statistics* (ie the lowest of $n$ values, the second lowest, etc) to the theoretical values of $N$ points evenly spaced in probability through the CDF of some *reference distribution*. It is closely related to the Shapiro-Wilk test that you may hear about.\n",
        "The reference distribution could be any continuous (floating point) distribution, but we often use the normal distribution.\n",
        "In this problem you will use the following function to generate histograms and QQ plots. The goal is for you to be able to recognize when a QQ plot fits, and to infer what is happening when the plot does not fit in different ways."
      ]
    },
    {
      "cell_type": "code",
      "execution_count": null,
      "id": "3c507de1",
      "metadata": {
        "id": "3c507de1"
      },
      "outputs": [],
      "source": [
        "def normal_qq(x):\n",
        "    n = len(x)\n",
        "    print(x.mean(), x.std())\n",
        "    percentiles = np.linspace(1 / (n+1), n / (n+1), n)\n",
        "    quantiles = normal_dist.ppf(percentiles)\n",
        "    qq_df = pd.DataFrame({\"Percentiles\": percentiles, \"Theoretical\": quantiles, \"Actual\": np.sort(x)})\n",
        "    pyplot.show()\n",
        "    # show the actual histogram of observations\n",
        "    seaborn.histplot(x, bins=16)\n",
        "    pyplot.show()\n",
        "    # show the QQ plot\n",
        "    seaborn.scatterplot(data=qq_df, x=\"Theoretical\", y=\"Actual\")\n",
        "    pyplot.show()"
      ]
    },
    {
      "cell_type": "markdown",
      "id": "d1766111",
      "metadata": {
        "id": "d1766111"
      },
      "source": [
        "Create a sample with `size` of 30 points from a normal distribution with mean (or *location*) 1000 and standard deviation (or *scale*) 500 using the `normal_dist.rvs()` function ([API documentation](https://docs.scipy.org/doc/scipy/reference/generated/scipy.stats.norm.html#scipy.stats.norm)). Use the `normal_qq` function provided above to display this sample array. Comment on how you interpret the plots displayed. Is your sample consistent with the standard (mean 0, std dev 1) normal distribution? How does the QQ plot convey the ways that the sample is and is not consistent? You may want to rerun the cell several times to get a sense of what is consistent across multiple samples.\n",
        "\n",
        "Create a sample with `size` of 30 points from a t distribution with `df=2`. Answer the same questions as for the normal distribution.\n",
        "\n",
        "Create a sample with `size` 30 points from a uniform distribution with min=0 and max=1 (note this is the default range for scipy's uniform distribution. Answer the same questions."
      ]
    },
    {
      "cell_type": "code",
      "execution_count": null,
      "id": "c7570b90",
      "metadata": {
        "id": "c7570b90",
        "colab": {
          "base_uri": "https://localhost:8080/",
          "height": 544
        },
        "outputId": "7df3df95-0014-4d97-89ad-62864125330c"
      },
      "outputs": [
        {
          "output_type": "stream",
          "name": "stdout",
          "text": [
            "910.4533165225764 436.7111871243746\n"
          ]
        },
        {
          "output_type": "display_data",
          "data": {
            "text/plain": [
              "<Figure size 432x288 with 1 Axes>"
            ],
            "image/png": "[encoded data removed]"
          },
          "metadata": {
            "needs_background": "light"
          }
        },
        {
          "output_type": "display_data",
          "data": {
            "text/plain": [
              "<Figure size 432x288 with 1 Axes>"
            ],
            "image/png": "[encoded data removed]"
          },
          "metadata": {
            "needs_background": "light"
          }
        }
      ],
      "source": [
        "# code here\n",
        "sample1 = normal_dist.rvs(loc=1000, scale=500, size=30)\n",
        "normal_qq(sample1)"
      ]
    },
    {
      "cell_type": "markdown",
      "id": "aec8689f",
      "metadata": {
        "id": "aec8689f"
      },
      "source": [
        "**Answer here:**\n",
        "\n",
        "1.  how you interpret the plots displayed\n",
        "\n",
        "> *  The plot almost shows a straight line when we assume that there is a line connecting the data points of two tails, but the distribution of data points located in two tails is irregular in qq-plot.\n",
        "\n",
        "2.  Is your sample consistent with the standard (mean 0, std dev 1) normal distribution?\n",
        "\n",
        "> * Yes, it is consistent with the standard normal sitribution. Result of histogram does not alike a bell curve. This may be interpreted that the sample is inconsistent with the standard normal distribution, but the reason is that the number of data points (size) is only 30. The data points are currently centered on mean (0), and two tails of q-q plot are showing sparse distribution. When we create random samples centered on normal distribution 10000, it shows a clear straight line in QQ plot. \n",
        "\n",
        "3.  How does the QQ plot convey the ways that the sample is and is not consistent?\n",
        "\n",
        "> * When qq plot shows a straight line, it implies sample is consistent, if it shows a skewed line in the qq plot, it implies the sample is not consistent."
      ]
    },
    {
      "cell_type": "code",
      "execution_count": null,
      "id": "78c38cf4",
      "metadata": {
        "id": "78c38cf4",
        "colab": {
          "base_uri": "https://localhost:8080/",
          "height": 544
        },
        "outputId": "1700ac7b-db14-4c96-c290-ccfc21a4ebca"
      },
      "outputs": [
        {
          "output_type": "stream",
          "name": "stdout",
          "text": [
            "0.4839550980091399 2.3606859813759558\n"
          ]
        },
        {
          "output_type": "display_data",
          "data": {
            "text/plain": [
              "<Figure size 432x288 with 1 Axes>"
            ],
            "image/png": "[encoded data removed]"
          },
          "metadata": {
            "needs_background": "light"
          }
        },
        {
          "output_type": "display_data",
          "data": {
            "text/plain": [
              "<Figure size 432x288 with 1 Axes>"
            ],
            "image/png": "[encoded data removed]"
          },
          "metadata": {
            "needs_background": "light"
          }
        }
      ],
      "source": [
        "# code here : Create a sample with size of 30 points from a t distribution with df=2. Answer the same questions as for the normal distribution.\n",
        "\n",
        "sample2 = t_dist.rvs(df=2, size=30)\n",
        "normal_qq(x= sample2)"
      ]
    },
    {
      "cell_type": "markdown",
      "id": "288254e6",
      "metadata": {
        "id": "288254e6"
      },
      "source": [
        "**Answer here:**\n",
        "\n",
        "1.  how you interpret the plots displayed\n",
        "\n",
        "> *  As similar as the normal distribution qq plot, the plot also closely shows a straight line. But the data points sparsed on qq-plot are more located close to the center and the two tails of the qq plot is extremly sparsed.\n",
        "\n",
        "2.  Is your sample consistent with the standard (mean 0, std dev 1) normal distribution?\n",
        "\n",
        "> * As the qq plot is close to the straight line, it is interpreted as consistent with the standard. Normally, t-distribution is used when we have less observations (n \\< 30\\). As the number of observations is large, it is close to consistent with normal distribution, so this t-distribution is likely to be consistent with normal distribution. However, t-distribution cannot assume if it is consistent with a normal distribution with the less number of observations such as 15. \n",
        "\n",
        "3.  How does the QQ plot convey the ways that the sample is and is not consistent?\n",
        "\n",
        "> * Similar as qq plot of normal distribution, when qq plot shows a straight line, it implies the sample is consistent. If it shows skewed line on the qq plot, it also implies the sample is not consistent."
      ]
    },
    {
      "cell_type": "code",
      "execution_count": null,
      "id": "a8cb0b7e",
      "metadata": {
        "id": "a8cb0b7e",
        "colab": {
          "base_uri": "https://localhost:8080/",
          "height": 544
        },
        "outputId": "0a6fc567-2b6a-464b-cfc9-486875f87cc0"
      },
      "outputs": [
        {
          "output_type": "stream",
          "name": "stdout",
          "text": [
            "0.45129421829134403 0.26834440112313473\n"
          ]
        },
        {
          "output_type": "display_data",
          "data": {
            "text/plain": [
              "<Figure size 432x288 with 1 Axes>"
            ],
            "image/png": "[encoded data removed]"
          },
          "metadata": {
            "needs_background": "light"
          }
        },
        {
          "output_type": "display_data",
          "data": {
            "text/plain": [
              "<Figure size 432x288 with 1 Axes>"
            ],
            "image/png": "[encoded data removed]"
          },
          "metadata": {
            "needs_background": "light"
          }
        }
      ],
      "source": [
        "# code here : Create a sample with size 30 points from a uniform distribution with min=0 and max=1 (note this is the default range for scipy's uniform distribution. Answer the same questions.\n",
        "sample3 = uniform_dist.rvs(loc=0, scale=1, size=30)\n",
        "normal_qq(sample3)"
      ]
    },
    {
      "cell_type": "markdown",
      "id": "c9570e65",
      "metadata": {
        "id": "c9570e65"
      },
      "source": [
        "**Answer here:**\n",
        "\n",
        "1.  how you interpret the plots displayed\n",
        "\n",
        "> *  Unlike the normal distribution, the plot is likely to underdispersed. When we size up the number of data points, the result is more manifest.\n",
        "\n",
        "2.  Is your sample consistent with the standard (mean 0, std dev 1) normal distribution?\n",
        "\n",
        "> * As data points are uniformly distributed from 0 to 1, it is hard to perceive that the sample is consistent with standard normal distribution. The probability of data points is equal, rather than centering on mean. \n",
        "\n",
        "3.  How does the QQ plot convey the ways that the sample is and is not consistent?\n",
        "\n",
        "> * In terms of qq plot, if it is consistent with normal distribution, the plot should show a straight line."
      ]
    },
    {
      "cell_type": "markdown",
      "id": "e11da700",
      "metadata": {
        "id": "e11da700"
      },
      "source": [
        "## Part 2: Compare bootstrap, z-test, and t-test (20 points)\n",
        "\n",
        "A one-sample test compares a function of an array of observed values to a pre-defined *critical value*, which is often zero.\n",
        "For example, we might want to test if INFO undergrads take an average of 20 credits per semester. In this case the function would be the mean, the array would be the number of credits taken by $N$ undergrads, and the critical value would be 20.\n",
        "Another common example is testing whether a regression coefficient is significant. The function is linear regression, the array is the inputs and output variables, and the critical value is zero, indicating that a particular input has no predictive effect.\n",
        "\n",
        "In both cases there's a simple answer: calculate the mean and see if it's 20, calculate the regression and see if it's zero. What we're asking is more subtle. If we observed slightly different data, we might get a different number. Do we have enough evidence to say that the real, underlying value was definitely *not* 20 or 0? Remember the visuals in class. We want to pay attention to how spread out the values are, and how close the observed mean is to the critical value *relative to that spread*.\n",
        "\n",
        "In this problem you will use three methods to calculate a $p$-value, representing the probability that a specific array of numbers could have been generated by a distribution with mean 0, or something more extreme."
      ]
    },
    {
      "cell_type": "code",
      "execution_count": null,
      "id": "f5d430cf",
      "metadata": {
        "id": "f5d430cf"
      },
      "outputs": [],
      "source": [
        "# We'll use this array of values\n",
        "x = np.array([-1, 1, 2, 3, 4, 5])"
      ]
    },
    {
      "cell_type": "markdown",
      "id": "ac64dd3c",
      "metadata": {
        "id": "ac64dd3c"
      },
      "source": [
        "Create variables for the mean of the array, the standard deviation, the *degrees of freedom* which in this case will be the length of the array minus one, and the standard error, which is the standard deviation divided by the square root of the degrees of freedom. Print these values."
      ]
    },
    {
      "cell_type": "code",
      "execution_count": null,
      "id": "dea7bd7e",
      "metadata": {
        "id": "dea7bd7e",
        "colab": {
          "base_uri": "https://localhost:8080/"
        },
        "outputId": "5113b435-a95f-494c-eed5-c56e2386a265"
      },
      "outputs": [
        {
          "output_type": "stream",
          "name": "stdout",
          "text": [
            "mean of x:  2.3333333333333335\n",
            "standard deviation of x:  1.9720265943665387\n",
            "df:  5\n",
            "standard error:  0.8819171036881969\n"
          ]
        }
      ],
      "source": [
        "import math\n",
        "\n",
        "#mean of x\n",
        "mean_x = np.mean(x)\n",
        "print(\"mean of x: \", mean_x)\n",
        "\n",
        "std = np.std(x)\n",
        "print('standard deviation of x: ', std)\n",
        "\n",
        "#degree of freedom\n",
        "df = len(x)-1\n",
        "print(\"df: \", df)\n",
        "\n",
        "#standard error\n",
        "stderr = std / math.sqrt(df)\n",
        "print(\"standard error: \", stderr)"
      ]
    },
    {
      "cell_type": "markdown",
      "id": "4692f5b8",
      "metadata": {
        "id": "4692f5b8"
      },
      "source": [
        "Use `ttest_1samp` to find the $p$-value that the critical value `popmean` is 0. Print this value. Note that `ttest_1samp` returns an object with a property called `pvalue`."
      ]
    },
    {
      "cell_type": "code",
      "execution_count": null,
      "id": "afd25e9b",
      "metadata": {
        "id": "afd25e9b",
        "colab": {
          "base_uri": "https://localhost:8080/"
        },
        "outputId": "c165099b-6eef-4a53-8d09-7bcd6f517a39"
      },
      "outputs": [
        {
          "output_type": "stream",
          "name": "stdout",
          "text": [
            "Ttest_1sampResult(statistic=2.6457513110645907, pvalue=0.0456591237814116)\n"
          ]
        }
      ],
      "source": [
        "result = ttest_1samp(x, popmean=0)\n",
        "print(result)"
      ]
    },
    {
      "cell_type": "markdown",
      "id": "6f143b4a",
      "metadata": {
        "id": "6f143b4a"
      },
      "source": [
        "The following code creates an array with the means of 1000 bootstrap resamplings from the original data.\n",
        "Use this array to count the number of resampled means that are less than 0, or greater than twice the mean of $x$.\n",
        "Syntax hint: if you compare a numpy array to a value, it returns an array of True/False values. Calling `np.sum()` on that array returns the total number of True values."
      ]
    },
    {
      "cell_type": "code",
      "execution_count": null,
      "id": "b98a56fd",
      "metadata": {
        "id": "b98a56fd"
      },
      "outputs": [],
      "source": [
        "bootstrap_means = np.zeros(1000)\n",
        "\n",
        "for i in range(1000):\n",
        "    bootstrap_means[i] = np.random.choice(x, len(x), replace=True).mean()"
      ]
    },
    {
      "cell_type": "code",
      "execution_count": null,
      "id": "820e815e",
      "metadata": {
        "id": "820e815e",
        "colab": {
          "base_uri": "https://localhost:8080/"
        },
        "outputId": "e4e850a5-64e0-4928-c776-732421d36c64"
      },
      "outputs": [
        {
          "output_type": "stream",
          "name": "stdout",
          "text": [
            "p values by bootstrap method:  0.004\n"
          ]
        }
      ],
      "source": [
        "count = np.logical_or(bootstrap_means <= 0, bootstrap_means >= mean_x*2)\n",
        "\n",
        "print('p values by bootstrap method: ', np.sum(count)/1000)"
      ]
    },
    {
      "cell_type": "markdown",
      "id": "8795b16f",
      "metadata": {
        "id": "8795b16f"
      },
      "source": [
        "**z test** Use the `normal_dist.cdf()` function to calculate the two-tailed probability that a normal distribution with mean 0 and the standard deviation of the array would generate a sample with six elements that has a mean further from 0 than the observed mean. Print this value. Hint: use values you have calculated. Confidence check: this should be larger than the bootstrap estimate, but smaller than the t-test p-value.\n",
        "\n",
        "**t test** Now do the same calculation but use the `t_dist.cdf()` function instead to do the same two-sided tail probability. You will need to specify the `df` degrees of freedom parameter. Print this value. Confidence check: this should be equal to the p-value from the t-test."
      ]
    },
    {
      "cell_type": "code",
      "execution_count": null,
      "id": "d9bda3a1",
      "metadata": {
        "id": "d9bda3a1",
        "colab": {
          "base_uri": "https://localhost:8080/"
        },
        "outputId": "38e64a62-9190-49fd-905b-02a9c29e5064"
      },
      "outputs": [
        {
          "output_type": "stream",
          "name": "stdout",
          "text": [
            "bootstrap p value:  0.004\n",
            "z_test p value:  0.008150971593502691\n",
            "t_test p value:  0.0456591237814116\n",
            "t_test result is same as 1sample t test result? : True\n"
          ]
        }
      ],
      "source": [
        "print('bootstrap p value: ', np.sum(count)/1000)\n",
        "z_test = normal_dist.cdf(0, loc=mean_x, scale=stderr)\n",
        "print(\"z_test p value: \", z_test*2)\n",
        "\n",
        "t_test = t_dist.cdf(0, df=df, loc=mean_x, scale=stderr)\n",
        "print(\"t_test p value: \", t_test*2)\n",
        "print(\"t_test result is same as 1sample t test result? :\", np.equal(result.pvalue, t_test*2))"
      ]
    },
    {
      "cell_type": "markdown",
      "id": "de9e7503",
      "metadata": {
        "id": "de9e7503"
      },
      "source": [
        "Rank the tests in order from the test that is *most* suspicious of this sample (least likely to predict the sample came from mean 0) to *least* suspicious. Explain why the probabilities you calculated show this relationship."
      ]
    },
    {
      "cell_type": "markdown",
      "id": "eba87893",
      "metadata": {
        "id": "eba87893"
      },
      "source": [
        "**Answer here:**\n",
        "\n",
        "> t-test > bootstrap  > z-test \\\\\n",
        "> t-test is the most likely to predict the sample came from mean 0 (least suspicious) and z-test is the most suspicious. When we consider the original population is normally distributed, as the observation is less than 30 (==30), and the result shows that p-value from the t-distribution is highly believeable. On the other hand, z-test should be used when the observations are actually normally distributed or the observation should be over 30, it has less validity as well as the result shows far less p-value. \\\n",
        "When we cannot assume that the original population is normal distributed, bootstrap is more reliable method for the small sample. \n"
      ]
    },
    {
      "cell_type": "markdown",
      "id": "46a72a1d",
      "metadata": {
        "id": "46a72a1d"
      },
      "source": [
        "## Part 3: interpreting p-values (25 points)\n",
        "\n",
        "In the previous example we kept the data array the same and tried different tests. Here we'll keep the test the same (one sample t test vs. mean=0), and compare a large number of data arrays.\n",
        "\n",
        "The [1-sample t-test](https://docs.scipy.org/doc/scipy/reference/generated/scipy.stats.ttest_1samp.html#scipy.stats.ttest_1samp) takes a single array and asks one question: is the actual/population mean of the array equal to some number $\\mu$? Note that we are not asking about the *sample* mean -- that's just a function we can calculate from the array itself. We're asking about whether it's likely that the array was generated from a distribution whose mean is $\\mu$.\n",
        "\n",
        "This next block runs a 1-sample t-test with the critical value (`popmean`) $\\mu=0$ on a sample of 30 points that we are actually generating from a distribution with mean zero. The value returned by the `ttest_1samp` function is an object that contains two values, a test statistic $t$ and a $p$ value.\n",
        "\n",
        "Run the cell, and check if your $p$ value is less than 0.05. If it is, congratulations! You reject the null hypothesis at $p=0.05$. You have made a *false discovery*.\n",
        "\n",
        "If you have not made a false discovery, keep rerunning the cell until you get $p\\leq 0.05$. How many times do you expect to run the cell, on average, before you make a false discovery?"
      ]
    },
    {
      "cell_type": "code",
      "execution_count": null,
      "id": "0c9a0c9d",
      "metadata": {
        "id": "0c9a0c9d",
        "colab": {
          "base_uri": "https://localhost:8080/"
        },
        "outputId": "9d69d65a-1270-45ef-86bd-a686324aaba7"
      },
      "outputs": [
        {
          "output_type": "stream",
          "name": "stdout",
          "text": [
            "mean: 0.18 std: 1.09 t: 0.91 p: 0.372 \n",
            "mean: 0.17 std: 1.37 t: 0.69 p: 0.498 \n",
            "mean: -0.24 std: 0.83 t: -1.55 p: 0.133 \n",
            "mean: -0.10 std: 1.05 t: -0.50 p: 0.621 \n",
            "mean: -0.35 std: 1.07 t: -1.74 p: 0.093 \n",
            "mean: -0.38 std: 1.10 t: -1.87 p: 0.071 \n",
            "mean: 0.00 std: 1.06 t: 0.02 p: 0.982 \n",
            "mean: 0.02 std: 0.92 t: 0.11 p: 0.911 \n",
            "mean: 0.13 std: 0.97 t: 0.70 p: 0.488 \n",
            "mean: 0.13 std: 1.28 t: 0.56 p: 0.583 \n",
            "mean: 0.03 std: 1.06 t: 0.16 p: 0.875 \n",
            "mean: -0.05 std: 1.01 t: -0.28 p: 0.782 \n",
            "mean: -0.11 std: 0.68 t: -0.88 p: 0.386 \n",
            "mean: 0.17 std: 0.77 t: 1.21 p: 0.238 \n",
            "mean: -0.09 std: 0.87 t: -0.55 p: 0.588 \n",
            "mean: -0.08 std: 1.02 t: -0.41 p: 0.686 \n",
            "mean: -0.17 std: 0.76 t: -1.24 p: 0.226 \n",
            "mean: -0.20 std: 0.91 t: -1.18 p: 0.246 \n",
            "mean: 0.18 std: 0.96 t: 1.01 p: 0.322 \n",
            "mean: -0.05 std: 1.02 t: -0.27 p: 0.793 \n",
            "mean: 0.15 std: 1.03 t: 0.80 p: 0.429 \n",
            "mean: -0.30 std: 1.11 t: -1.46 p: 0.155 \n",
            "mean: 0.05 std: 1.08 t: 0.23 p: 0.818 \n",
            "mean: 0.14 std: 0.97 t: 0.77 p: 0.445 \n",
            "mean: 0.40 std: 1.03 t: 2.09 p: 0.045 *\n",
            "mean: 0.26 std: 0.90 t: 1.58 p: 0.125 \n",
            "mean: 0.14 std: 0.96 t: 0.77 p: 0.447 \n",
            "mean: 0.04 std: 1.00 t: 0.20 p: 0.845 \n",
            "mean: -0.11 std: 0.85 t: -0.69 p: 0.495 \n",
            "mean: -0.40 std: 1.20 t: -1.79 p: 0.084 \n",
            "mean: -0.18 std: 0.86 t: -1.11 p: 0.276 \n",
            "mean: -0.23 std: 0.95 t: -1.31 p: 0.200 \n",
            "mean: 0.17 std: 1.10 t: 0.81 p: 0.423 \n",
            "mean: 0.08 std: 1.07 t: 0.42 p: 0.677 \n",
            "mean: -0.01 std: 0.99 t: -0.05 p: 0.964 \n",
            "mean: -0.01 std: 1.04 t: -0.05 p: 0.957 \n",
            "mean: -0.04 std: 0.93 t: -0.22 p: 0.827 \n",
            "mean: -0.21 std: 0.96 t: -1.18 p: 0.249 \n",
            "mean: 0.24 std: 0.73 t: 1.78 p: 0.086 \n",
            "mean: 0.01 std: 0.79 t: 0.06 p: 0.956 \n",
            "mean: 0.09 std: 1.09 t: 0.44 p: 0.661 \n",
            "mean: 0.23 std: 0.89 t: 1.40 p: 0.173 \n",
            "mean: -0.43 std: 1.03 t: -2.24 p: 0.033 *\n",
            "mean: -0.22 std: 0.96 t: -1.26 p: 0.218 \n",
            "mean: 0.22 std: 0.97 t: 1.21 p: 0.235 \n",
            "mean: 0.15 std: 0.88 t: 0.91 p: 0.371 \n",
            "mean: 0.17 std: 0.99 t: 0.92 p: 0.364 \n",
            "mean: -0.31 std: 0.91 t: -1.83 p: 0.078 \n",
            "mean: -0.03 std: 1.10 t: -0.14 p: 0.893 \n",
            "mean: -0.04 std: 0.88 t: -0.22 p: 0.824 \n",
            "mean: 0.10 std: 0.84 t: 0.62 p: 0.541 \n",
            "mean: 0.10 std: 1.04 t: 0.50 p: 0.618 \n",
            "mean: 0.20 std: 0.89 t: 1.18 p: 0.247 \n",
            "mean: -0.13 std: 1.09 t: -0.63 p: 0.532 \n",
            "mean: -0.08 std: 0.96 t: -0.46 p: 0.649 \n",
            "mean: 0.44 std: 0.82 t: 2.89 p: 0.007 *\n",
            "mean: 0.02 std: 1.04 t: 0.08 p: 0.936 \n",
            "mean: -0.14 std: 0.93 t: -0.82 p: 0.417 \n",
            "mean: -0.48 std: 1.14 t: -2.29 p: 0.030 *\n",
            "mean: -0.32 std: 1.25 t: -1.39 p: 0.174 \n",
            "mean: -0.20 std: 1.18 t: -0.91 p: 0.368 \n",
            "mean: -0.10 std: 1.09 t: -0.51 p: 0.616 \n",
            "mean: -0.25 std: 0.84 t: -1.61 p: 0.118 \n",
            "mean: -0.17 std: 0.98 t: -0.95 p: 0.352 \n",
            "mean: 0.13 std: 0.83 t: 0.83 p: 0.413 \n",
            "mean: 0.19 std: 0.86 t: 1.16 p: 0.256 \n",
            "mean: -0.05 std: 0.97 t: -0.27 p: 0.788 \n",
            "mean: -0.22 std: 1.29 t: -0.90 p: 0.373 \n",
            "mean: 0.17 std: 1.15 t: 0.80 p: 0.431 \n",
            "mean: -0.05 std: 0.85 t: -0.34 p: 0.734 \n",
            "mean: -0.00 std: 1.13 t: -0.01 p: 0.992 \n",
            "mean: -0.39 std: 1.38 t: -1.52 p: 0.140 \n",
            "mean: 0.05 std: 0.94 t: 0.31 p: 0.763 \n",
            "mean: 0.36 std: 0.75 t: 2.56 p: 0.016 *\n",
            "mean: 0.08 std: 0.97 t: 0.44 p: 0.661 \n",
            "mean: -0.15 std: 1.08 t: -0.76 p: 0.453 \n",
            "mean: -0.30 std: 0.97 t: -1.67 p: 0.106 \n",
            "mean: -0.06 std: 0.89 t: -0.39 p: 0.698 \n",
            "mean: -0.00 std: 1.02 t: -0.00 p: 0.999 \n",
            "mean: -0.01 std: 1.10 t: -0.03 p: 0.975 \n",
            "mean: -0.34 std: 1.18 t: -1.56 p: 0.129 \n",
            "mean: -0.13 std: 0.96 t: -0.73 p: 0.473 \n",
            "mean: -0.06 std: 1.26 t: -0.24 p: 0.815 \n",
            "mean: 0.02 std: 0.79 t: 0.14 p: 0.892 \n",
            "mean: 0.23 std: 0.79 t: 1.57 p: 0.127 \n",
            "mean: 0.22 std: 0.79 t: 1.52 p: 0.138 \n",
            "mean: -0.27 std: 1.02 t: -1.42 p: 0.166 \n",
            "mean: 0.12 std: 1.03 t: 0.61 p: 0.547 \n",
            "mean: 0.09 std: 1.09 t: 0.46 p: 0.651 \n",
            "mean: 0.05 std: 1.06 t: 0.27 p: 0.789 \n",
            "mean: 0.03 std: 0.71 t: 0.21 p: 0.833 \n",
            "mean: 0.12 std: 0.81 t: 0.82 p: 0.418 \n",
            "mean: 0.48 std: 1.26 t: 2.03 p: 0.051 \n",
            "mean: -0.04 std: 0.86 t: -0.22 p: 0.824 \n",
            "mean: 0.09 std: 1.17 t: 0.43 p: 0.671 \n",
            "mean: -0.31 std: 0.89 t: -1.91 p: 0.066 \n",
            "mean: -0.06 std: 0.98 t: -0.34 p: 0.736 \n",
            "mean: 0.58 std: 0.84 t: 3.72 p: 0.001 *\n",
            "mean: 0.19 std: 1.00 t: 1.01 p: 0.321 \n",
            "mean: 0.24 std: 1.12 t: 1.18 p: 0.249 \n",
            "6\n"
          ]
        }
      ],
      "source": [
        "num_1 = 0\n",
        "\n",
        "for i in range (100):\n",
        "  sample = np.random.normal(0, 1, 30)\n",
        "  test_result = ttest_1samp(sample, popmean=0)\n",
        "  print(\"mean: {:.2f} std: {:.2f} t: {:.2f} p: {:.3f} {}\".format(sample.mean(),\n",
        "                                                               sample.std(),\n",
        "                                                               test_result.statistic,\n",
        "                                                               test_result.pvalue,\n",
        "                                                               \"*\" if test_result.pvalue <= 0.05 else \"\"))\n",
        "  if test_result.pvalue <= 0.05:\n",
        "    num_1 += 1\n",
        "  \n",
        "print(num_1)"
      ]
    },
    {
      "cell_type": "markdown",
      "source": [
        "**Answer here:**\n",
        "\n",
        "*   When I run the code for 100 times, I could six significance in the result. I expected to see five significances because it has 5 % probabilibty."
      ],
      "metadata": {
        "id": "FPe1R4avSD0q"
      },
      "id": "FPe1R4avSD0q"
    },
    {
      "cell_type": "markdown",
      "id": "348f9f89",
      "metadata": {
        "id": "348f9f89"
      },
      "source": [
        "Now let's see what happens when the null hypothesis ($\\mu = 0$) is not true. Copy the cell above, and change the mean in the `normal` function from 0 to 0.2. Repeat the experiment. If you got $p>0.05$, you have a *false negative*, and have failed to discover a true finding."
      ]
    },
    {
      "cell_type": "code",
      "execution_count": null,
      "id": "dd4f5c4c",
      "metadata": {
        "id": "dd4f5c4c",
        "colab": {
          "base_uri": "https://localhost:8080/"
        },
        "outputId": "75a2161d-38ca-445b-db6d-ac5c3568389b"
      },
      "outputs": [
        {
          "output_type": "stream",
          "name": "stdout",
          "text": [
            "mean: -0.09 std: 0.64 t: -0.77 p: 0.447 \n",
            "mean: 0.17 std: 1.09 t: 0.83 p: 0.415 \n",
            "mean: 0.06 std: 1.11 t: 0.30 p: 0.763 \n",
            "mean: 0.41 std: 0.88 t: 2.52 p: 0.017 *\n",
            "mean: 0.56 std: 1.24 t: 2.41 p: 0.023 *\n",
            "mean: 0.10 std: 1.11 t: 0.48 p: 0.637 \n",
            "mean: 0.13 std: 1.09 t: 0.63 p: 0.532 \n",
            "mean: 0.56 std: 0.93 t: 3.26 p: 0.003 *\n",
            "mean: 0.41 std: 1.19 t: 1.84 p: 0.075 \n",
            "mean: 0.20 std: 0.94 t: 1.15 p: 0.259 \n",
            "mean: 0.07 std: 1.02 t: 0.35 p: 0.733 \n",
            "mean: 0.14 std: 1.30 t: 0.56 p: 0.580 \n",
            "mean: 0.17 std: 1.17 t: 0.80 p: 0.431 \n",
            "mean: -0.03 std: 1.10 t: -0.17 p: 0.866 \n",
            "mean: 0.06 std: 0.81 t: 0.38 p: 0.708 \n",
            "mean: 0.39 std: 1.11 t: 1.89 p: 0.069 \n",
            "mean: 0.05 std: 1.12 t: 0.26 p: 0.798 \n",
            "mean: 0.14 std: 1.01 t: 0.72 p: 0.478 \n",
            "mean: 0.05 std: 1.07 t: 0.23 p: 0.817 \n",
            "mean: 0.32 std: 1.25 t: 1.39 p: 0.175 \n",
            "mean: 0.28 std: 1.19 t: 1.27 p: 0.213 \n",
            "mean: 0.12 std: 1.18 t: 0.55 p: 0.583 \n",
            "mean: -0.01 std: 0.66 t: -0.12 p: 0.906 \n",
            "mean: 0.45 std: 1.16 t: 2.08 p: 0.047 *\n",
            "mean: -0.17 std: 0.79 t: -1.19 p: 0.243 \n",
            "mean: 0.15 std: 1.15 t: 0.71 p: 0.481 \n",
            "mean: 0.29 std: 0.70 t: 2.22 p: 0.035 *\n",
            "mean: 0.13 std: 1.13 t: 0.62 p: 0.542 \n",
            "mean: 0.16 std: 1.22 t: 0.72 p: 0.479 \n",
            "mean: 0.38 std: 0.98 t: 2.09 p: 0.046 *\n",
            "mean: 0.19 std: 0.90 t: 1.15 p: 0.260 \n",
            "mean: 0.11 std: 0.79 t: 0.71 p: 0.480 \n",
            "mean: 0.32 std: 1.22 t: 1.40 p: 0.173 \n",
            "mean: 0.10 std: 1.06 t: 0.50 p: 0.621 \n",
            "mean: -0.00 std: 1.19 t: -0.00 p: 0.997 \n",
            "mean: 0.20 std: 1.10 t: 0.98 p: 0.333 \n",
            "mean: 0.56 std: 1.12 t: 2.69 p: 0.012 *\n",
            "mean: 0.10 std: 0.82 t: 0.67 p: 0.509 \n",
            "mean: 0.21 std: 1.17 t: 0.99 p: 0.331 \n",
            "mean: 0.48 std: 1.03 t: 2.54 p: 0.017 *\n",
            "mean: 0.06 std: 1.01 t: 0.29 p: 0.770 \n",
            "mean: 0.46 std: 1.07 t: 2.31 p: 0.028 *\n",
            "mean: 0.27 std: 0.84 t: 1.74 p: 0.093 \n",
            "mean: 0.22 std: 0.85 t: 1.38 p: 0.177 \n",
            "mean: 0.24 std: 0.81 t: 1.62 p: 0.117 \n",
            "mean: 0.32 std: 0.77 t: 2.22 p: 0.035 *\n",
            "mean: 0.27 std: 0.84 t: 1.71 p: 0.097 \n",
            "mean: 0.47 std: 1.00 t: 2.51 p: 0.018 *\n",
            "mean: 0.20 std: 1.07 t: 0.99 p: 0.331 \n",
            "mean: -0.26 std: 1.21 t: -1.16 p: 0.257 \n",
            "mean: 0.24 std: 1.20 t: 1.06 p: 0.296 \n",
            "mean: 0.31 std: 0.86 t: 1.94 p: 0.062 \n",
            "mean: 0.19 std: 0.89 t: 1.15 p: 0.261 \n",
            "mean: 0.22 std: 1.11 t: 1.06 p: 0.296 \n",
            "mean: 0.14 std: 1.04 t: 0.75 p: 0.460 \n",
            "mean: 0.26 std: 0.93 t: 1.54 p: 0.135 \n",
            "mean: 0.05 std: 0.99 t: 0.25 p: 0.803 \n",
            "mean: 0.16 std: 0.77 t: 1.10 p: 0.279 \n",
            "mean: 0.28 std: 1.01 t: 1.49 p: 0.146 \n",
            "mean: 0.04 std: 1.06 t: 0.20 p: 0.842 \n",
            "mean: -0.12 std: 0.98 t: -0.67 p: 0.509 \n",
            "mean: 0.05 std: 0.79 t: 0.34 p: 0.737 \n",
            "mean: 0.20 std: 1.09 t: 0.99 p: 0.331 \n",
            "mean: 0.33 std: 1.17 t: 1.52 p: 0.140 \n",
            "mean: 0.02 std: 1.08 t: 0.10 p: 0.917 \n",
            "mean: 0.09 std: 1.18 t: 0.42 p: 0.680 \n",
            "mean: 0.33 std: 0.96 t: 1.83 p: 0.077 \n",
            "mean: -0.11 std: 0.87 t: -0.69 p: 0.496 \n",
            "mean: 0.24 std: 0.90 t: 1.43 p: 0.164 \n",
            "mean: 0.25 std: 0.90 t: 1.52 p: 0.140 \n",
            "mean: 0.23 std: 1.03 t: 1.23 p: 0.228 \n",
            "mean: 0.28 std: 1.01 t: 1.51 p: 0.141 \n",
            "mean: -0.06 std: 1.15 t: -0.29 p: 0.777 \n",
            "mean: 0.11 std: 1.07 t: 0.56 p: 0.580 \n",
            "mean: 0.15 std: 0.91 t: 0.91 p: 0.368 \n",
            "mean: 0.01 std: 1.13 t: 0.07 p: 0.945 \n",
            "mean: -0.02 std: 0.93 t: -0.13 p: 0.898 \n",
            "mean: -0.00 std: 0.81 t: -0.03 p: 0.974 \n",
            "mean: -0.01 std: 0.98 t: -0.06 p: 0.956 \n",
            "mean: 0.01 std: 1.09 t: 0.04 p: 0.970 \n",
            "mean: 0.17 std: 0.82 t: 1.12 p: 0.272 \n",
            "mean: 0.52 std: 0.74 t: 3.76 p: 0.001 *\n",
            "mean: 0.26 std: 0.74 t: 1.92 p: 0.064 \n",
            "mean: 0.16 std: 0.91 t: 0.93 p: 0.358 \n",
            "mean: 0.18 std: 0.91 t: 1.08 p: 0.291 \n",
            "mean: 0.38 std: 1.13 t: 1.81 p: 0.081 \n",
            "mean: 0.11 std: 0.77 t: 0.77 p: 0.448 \n",
            "mean: 0.23 std: 1.24 t: 1.01 p: 0.319 \n",
            "mean: 0.23 std: 1.02 t: 1.20 p: 0.240 \n",
            "mean: 0.33 std: 1.00 t: 1.77 p: 0.087 \n",
            "mean: 0.11 std: 1.01 t: 0.59 p: 0.558 \n",
            "mean: 0.11 std: 1.06 t: 0.54 p: 0.596 \n",
            "mean: 0.04 std: 0.95 t: 0.21 p: 0.834 \n",
            "mean: 0.08 std: 1.00 t: 0.41 p: 0.686 \n",
            "mean: 0.40 std: 0.94 t: 2.33 p: 0.027 *\n",
            "mean: -0.17 std: 0.91 t: -1.00 p: 0.324 \n",
            "mean: 0.25 std: 1.16 t: 1.15 p: 0.261 \n",
            "mean: 0.28 std: 0.92 t: 1.66 p: 0.108 \n",
            "mean: -0.18 std: 0.97 t: -1.01 p: 0.323 \n",
            "mean: 0.55 std: 1.23 t: 2.39 p: 0.023 *\n",
            "14\n"
          ]
        }
      ],
      "source": [
        "num_2=0\n",
        "\n",
        "for i in range (100):\n",
        "  sample = np.random.normal(0.2, 1, 30)\n",
        "  test_result = ttest_1samp(sample, popmean=0)\n",
        "  print(\"mean: {:.2f} std: {:.2f} t: {:.2f} p: {:.3f} {}\".format(sample.mean(),\n",
        "                                                               sample.std(),\n",
        "                                                               test_result.statistic,\n",
        "                                                               test_result.pvalue,\n",
        "                                                               \"*\" if test_result.pvalue <= 0.05 else \"\"))\n",
        "  if test_result.pvalue <= 0.05:\n",
        "    num_2 += 1\n",
        "  \n",
        "print(num_2)"
      ]
    },
    {
      "cell_type": "markdown",
      "id": "80b2fcfc",
      "metadata": {
        "id": "80b2fcfc"
      },
      "source": [
        "**Answer**\n",
        "\n",
        "*   When I run the code for 100 times, I could observe 14 significances in the result, which is more than the previous function."
      ]
    },
    {
      "cell_type": "markdown",
      "id": "bcae3667",
      "metadata": {
        "id": "bcae3667"
      },
      "source": [
        "The difference between 0.0 and 0.2 is small. What if the true difference is larger? Copy the cell above and change the mean in the `normal` function from 0 to 0.6. Repeat the experiment. If you got $p>0.05$, you have a *false negative*, and have failed to discover a true finding."
      ]
    },
    {
      "cell_type": "code",
      "execution_count": null,
      "id": "2cc8b87e",
      "metadata": {
        "id": "2cc8b87e",
        "colab": {
          "base_uri": "https://localhost:8080/"
        },
        "outputId": "343ec7db-fd4a-4d19-819f-eb054983e226"
      },
      "outputs": [
        {
          "output_type": "stream",
          "name": "stdout",
          "text": [
            "mean: 0.63 std: 0.97 t: 3.51 p: 0.001 *\n",
            "mean: 0.53 std: 1.15 t: 2.48 p: 0.019 *\n",
            "mean: 0.28 std: 1.16 t: 1.32 p: 0.197 \n",
            "mean: 0.57 std: 0.85 t: 3.60 p: 0.001 *\n",
            "mean: 0.51 std: 1.05 t: 2.61 p: 0.014 *\n",
            "mean: 0.57 std: 1.03 t: 3.00 p: 0.006 *\n",
            "mean: 0.59 std: 1.00 t: 3.20 p: 0.003 *\n",
            "mean: 0.47 std: 1.16 t: 2.16 p: 0.039 *\n",
            "mean: 0.66 std: 1.08 t: 3.31 p: 0.003 *\n",
            "mean: 0.78 std: 1.06 t: 3.97 p: 0.000 *\n",
            "mean: 0.86 std: 0.84 t: 5.49 p: 0.000 *\n",
            "mean: 0.52 std: 0.76 t: 3.70 p: 0.001 *\n",
            "mean: 0.55 std: 1.04 t: 2.84 p: 0.008 *\n",
            "mean: 0.54 std: 1.15 t: 2.55 p: 0.016 *\n",
            "mean: 0.76 std: 0.74 t: 5.50 p: 0.000 *\n",
            "mean: 0.34 std: 1.00 t: 1.85 p: 0.074 \n",
            "mean: 0.72 std: 0.98 t: 3.97 p: 0.000 *\n",
            "mean: 0.58 std: 0.78 t: 4.04 p: 0.000 *\n",
            "mean: 0.78 std: 1.14 t: 3.67 p: 0.001 *\n",
            "mean: 0.58 std: 0.91 t: 3.43 p: 0.002 *\n",
            "mean: 0.30 std: 0.87 t: 1.83 p: 0.078 \n",
            "mean: 0.58 std: 1.11 t: 2.81 p: 0.009 *\n",
            "mean: 0.60 std: 1.06 t: 3.03 p: 0.005 *\n",
            "mean: 0.77 std: 1.02 t: 4.07 p: 0.000 *\n",
            "mean: 0.45 std: 1.08 t: 2.22 p: 0.034 *\n",
            "mean: 0.61 std: 0.85 t: 3.88 p: 0.001 *\n",
            "mean: 0.44 std: 0.91 t: 2.62 p: 0.014 *\n",
            "mean: 0.64 std: 0.77 t: 4.43 p: 0.000 *\n",
            "mean: 0.52 std: 1.09 t: 2.55 p: 0.016 *\n",
            "mean: 0.64 std: 0.82 t: 4.16 p: 0.000 *\n",
            "mean: 0.62 std: 1.08 t: 3.08 p: 0.004 *\n",
            "mean: 0.33 std: 0.92 t: 1.92 p: 0.065 \n",
            "mean: 0.64 std: 0.78 t: 4.40 p: 0.000 *\n",
            "mean: 0.75 std: 1.04 t: 3.89 p: 0.001 *\n",
            "mean: 0.62 std: 1.01 t: 3.33 p: 0.002 *\n",
            "mean: 0.57 std: 1.00 t: 3.08 p: 0.004 *\n",
            "mean: 0.61 std: 1.06 t: 3.11 p: 0.004 *\n",
            "mean: 0.50 std: 0.97 t: 2.77 p: 0.010 *\n",
            "mean: 0.22 std: 0.88 t: 1.35 p: 0.186 \n",
            "mean: 0.70 std: 1.09 t: 3.48 p: 0.002 *\n",
            "mean: 0.66 std: 1.08 t: 3.28 p: 0.003 *\n",
            "mean: 0.48 std: 1.09 t: 2.39 p: 0.023 *\n",
            "mean: 0.47 std: 0.95 t: 2.66 p: 0.013 *\n",
            "mean: 0.75 std: 0.84 t: 4.82 p: 0.000 *\n",
            "mean: 0.59 std: 0.73 t: 4.31 p: 0.000 *\n",
            "mean: 0.28 std: 0.79 t: 1.92 p: 0.065 \n",
            "mean: 0.32 std: 1.07 t: 1.63 p: 0.114 \n",
            "mean: 0.81 std: 0.99 t: 4.39 p: 0.000 *\n",
            "mean: 0.50 std: 0.95 t: 2.83 p: 0.008 *\n",
            "mean: 0.52 std: 1.05 t: 2.66 p: 0.013 *\n",
            "mean: 0.20 std: 1.09 t: 0.99 p: 0.332 \n",
            "mean: 0.22 std: 0.89 t: 1.31 p: 0.199 \n",
            "mean: 0.69 std: 0.83 t: 4.48 p: 0.000 *\n",
            "mean: 0.51 std: 0.95 t: 2.89 p: 0.007 *\n",
            "mean: 0.50 std: 1.10 t: 2.43 p: 0.021 *\n",
            "mean: 0.87 std: 1.18 t: 3.97 p: 0.000 *\n",
            "mean: 0.74 std: 1.03 t: 3.87 p: 0.001 *\n",
            "mean: 0.20 std: 0.87 t: 1.25 p: 0.222 \n",
            "mean: 0.86 std: 0.89 t: 5.20 p: 0.000 *\n",
            "mean: 0.57 std: 0.96 t: 3.20 p: 0.003 *\n",
            "mean: 0.36 std: 0.82 t: 2.35 p: 0.026 *\n",
            "mean: 0.71 std: 0.91 t: 4.22 p: 0.000 *\n",
            "mean: 0.67 std: 0.72 t: 5.04 p: 0.000 *\n",
            "mean: 0.56 std: 0.97 t: 3.10 p: 0.004 *\n",
            "mean: 0.39 std: 0.93 t: 2.25 p: 0.032 *\n",
            "mean: 0.92 std: 0.96 t: 5.16 p: 0.000 *\n",
            "mean: 0.54 std: 1.04 t: 2.80 p: 0.009 *\n",
            "mean: 0.67 std: 0.89 t: 4.05 p: 0.000 *\n",
            "mean: 0.80 std: 0.97 t: 4.44 p: 0.000 *\n",
            "mean: 0.70 std: 0.88 t: 4.27 p: 0.000 *\n",
            "mean: 0.47 std: 0.84 t: 2.99 p: 0.006 *\n",
            "mean: 0.46 std: 0.62 t: 4.00 p: 0.000 *\n",
            "mean: 0.92 std: 0.88 t: 5.62 p: 0.000 *\n",
            "mean: 0.85 std: 0.89 t: 5.12 p: 0.000 *\n",
            "mean: 0.55 std: 1.02 t: 2.89 p: 0.007 *\n",
            "mean: 0.65 std: 1.13 t: 3.12 p: 0.004 *\n",
            "mean: 1.16 std: 0.96 t: 6.51 p: 0.000 *\n",
            "mean: 0.65 std: 0.86 t: 4.03 p: 0.000 *\n",
            "mean: 0.58 std: 1.04 t: 2.99 p: 0.006 *\n",
            "mean: 0.60 std: 0.86 t: 3.77 p: 0.001 *\n",
            "mean: 0.43 std: 0.97 t: 2.36 p: 0.025 *\n",
            "mean: 0.73 std: 0.81 t: 4.83 p: 0.000 *\n",
            "mean: 0.49 std: 0.95 t: 2.80 p: 0.009 *\n",
            "mean: 0.63 std: 0.82 t: 4.16 p: 0.000 *\n",
            "mean: 0.64 std: 1.01 t: 3.42 p: 0.002 *\n",
            "mean: 0.88 std: 1.09 t: 4.35 p: 0.000 *\n",
            "mean: 0.65 std: 0.89 t: 3.93 p: 0.000 *\n",
            "mean: 0.54 std: 0.97 t: 3.04 p: 0.005 *\n",
            "mean: 0.65 std: 1.05 t: 3.31 p: 0.002 *\n",
            "mean: 0.48 std: 1.00 t: 2.58 p: 0.015 *\n",
            "mean: 0.59 std: 0.95 t: 3.36 p: 0.002 *\n",
            "mean: 0.91 std: 0.95 t: 5.14 p: 0.000 *\n",
            "mean: 0.67 std: 1.00 t: 3.58 p: 0.001 *\n",
            "mean: 0.66 std: 1.15 t: 3.08 p: 0.004 *\n",
            "mean: 0.63 std: 0.91 t: 3.74 p: 0.001 *\n",
            "mean: 0.75 std: 0.94 t: 4.34 p: 0.000 *\n",
            "mean: 0.91 std: 1.11 t: 4.43 p: 0.000 *\n",
            "mean: 0.68 std: 1.05 t: 3.49 p: 0.002 *\n",
            "mean: 0.66 std: 0.98 t: 3.62 p: 0.001 *\n",
            "mean: 0.44 std: 1.07 t: 2.21 p: 0.035 *\n",
            "90\n"
          ]
        }
      ],
      "source": [
        "num_3 = 0\n",
        "\n",
        "for i in range (100):\n",
        "  sample = np.random.normal(0.6, 1, 30)\n",
        "  test_result = ttest_1samp(sample, popmean=0)\n",
        "  print(\"mean: {:.2f} std: {:.2f} t: {:.2f} p: {:.3f} {}\".format(sample.mean(),\n",
        "                                                               sample.std(),\n",
        "                                                               test_result.statistic,\n",
        "                                                               test_result.pvalue,\n",
        "                                                               \"*\" if test_result.pvalue <= 0.05 else \"\"))\n",
        "  if test_result.pvalue <= 0.05:\n",
        "    num_3 += 1\n",
        "  \n",
        "print(num_3)"
      ]
    },
    {
      "cell_type": "markdown",
      "id": "1923b72a",
      "metadata": {
        "id": "1923b72a"
      },
      "source": [
        "**Answer**\n",
        "\n",
        "*   When I run the code for 100 times, I could 90 significance in the result."
      ]
    },
    {
      "cell_type": "markdown",
      "id": "921ffa18",
      "metadata": {
        "id": "921ffa18"
      },
      "source": [
        "Could we detect a difference between 0.0 and 0.2 if we had more data? Repeat the experiment with the mean of the `normal` function equal to 0.2, but change the size of the sample array to 100. How many times do you get a false negative? "
      ]
    },
    {
      "cell_type": "code",
      "execution_count": null,
      "id": "fc02088f",
      "metadata": {
        "id": "fc02088f",
        "colab": {
          "base_uri": "https://localhost:8080/"
        },
        "outputId": "9b18632d-256b-45be-a4eb-5e7bc63eeb23"
      },
      "outputs": [
        {
          "output_type": "stream",
          "name": "stdout",
          "text": [
            "mean: 0.36 std: 0.92 t: 3.93 p: 0.000 *\n",
            "mean: 0.25 std: 1.03 t: 2.41 p: 0.018 *\n",
            "mean: 0.17 std: 0.85 t: 1.97 p: 0.052 \n",
            "mean: 0.11 std: 0.96 t: 1.18 p: 0.243 \n",
            "mean: 0.11 std: 0.99 t: 1.15 p: 0.253 \n",
            "mean: 0.31 std: 0.85 t: 3.59 p: 0.001 *\n",
            "mean: 0.17 std: 0.97 t: 1.77 p: 0.079 \n",
            "mean: 0.02 std: 1.09 t: 0.16 p: 0.876 \n",
            "mean: 0.17 std: 1.13 t: 1.53 p: 0.129 \n",
            "mean: 0.24 std: 0.86 t: 2.81 p: 0.006 *\n",
            "mean: 0.33 std: 1.04 t: 3.16 p: 0.002 *\n",
            "mean: 0.18 std: 1.09 t: 1.63 p: 0.107 \n",
            "mean: 0.27 std: 1.03 t: 2.57 p: 0.012 *\n",
            "mean: 0.24 std: 0.90 t: 2.63 p: 0.010 *\n",
            "mean: 0.24 std: 1.02 t: 2.35 p: 0.021 *\n",
            "mean: 0.15 std: 0.96 t: 1.54 p: 0.126 \n",
            "mean: 0.20 std: 1.05 t: 1.92 p: 0.058 \n",
            "mean: 0.12 std: 1.00 t: 1.15 p: 0.252 \n",
            "mean: 0.26 std: 1.10 t: 2.33 p: 0.022 *\n",
            "mean: 0.29 std: 1.00 t: 2.91 p: 0.004 *\n",
            "mean: 0.03 std: 1.01 t: 0.27 p: 0.785 \n",
            "mean: 0.14 std: 0.98 t: 1.44 p: 0.152 \n",
            "mean: 0.20 std: 1.03 t: 1.96 p: 0.053 \n",
            "mean: 0.16 std: 0.94 t: 1.64 p: 0.105 \n",
            "mean: 0.15 std: 0.92 t: 1.67 p: 0.099 \n",
            "mean: 0.10 std: 0.90 t: 1.10 p: 0.272 \n",
            "mean: 0.18 std: 1.09 t: 1.61 p: 0.110 \n",
            "mean: 0.18 std: 0.99 t: 1.79 p: 0.077 \n",
            "mean: 0.26 std: 0.91 t: 2.85 p: 0.005 *\n",
            "mean: 0.26 std: 0.85 t: 3.12 p: 0.002 *\n",
            "mean: 0.23 std: 0.91 t: 2.56 p: 0.012 *\n",
            "mean: 0.26 std: 0.88 t: 2.89 p: 0.005 *\n",
            "mean: 0.31 std: 0.98 t: 3.17 p: 0.002 *\n",
            "mean: 0.27 std: 0.94 t: 2.88 p: 0.005 *\n",
            "mean: 0.16 std: 0.88 t: 1.77 p: 0.079 \n",
            "mean: 0.16 std: 1.08 t: 1.48 p: 0.142 \n",
            "mean: 0.20 std: 0.97 t: 2.06 p: 0.042 *\n",
            "mean: 0.14 std: 0.98 t: 1.39 p: 0.168 \n",
            "mean: 0.21 std: 0.91 t: 2.25 p: 0.026 *\n",
            "mean: 0.27 std: 1.05 t: 2.55 p: 0.012 *\n",
            "mean: 0.21 std: 0.91 t: 2.35 p: 0.021 *\n",
            "mean: -0.03 std: 1.00 t: -0.34 p: 0.731 \n",
            "mean: 0.08 std: 0.97 t: 0.82 p: 0.413 \n",
            "mean: 0.21 std: 1.00 t: 2.11 p: 0.037 *\n",
            "mean: 0.14 std: 0.86 t: 1.63 p: 0.106 \n",
            "mean: 0.29 std: 1.07 t: 2.74 p: 0.007 *\n",
            "mean: 0.09 std: 0.98 t: 0.95 p: 0.343 \n",
            "mean: 0.30 std: 1.05 t: 2.86 p: 0.005 *\n",
            "mean: 0.24 std: 0.92 t: 2.56 p: 0.012 *\n",
            "mean: 0.09 std: 1.00 t: 0.90 p: 0.371 \n",
            "mean: 0.34 std: 1.16 t: 2.89 p: 0.005 *\n",
            "mean: 0.14 std: 1.13 t: 1.21 p: 0.231 \n",
            "mean: 0.26 std: 0.97 t: 2.69 p: 0.008 *\n",
            "mean: 0.08 std: 1.12 t: 0.69 p: 0.489 \n",
            "mean: 0.17 std: 1.01 t: 1.67 p: 0.097 \n",
            "mean: 0.24 std: 0.99 t: 2.45 p: 0.016 *\n",
            "mean: 0.22 std: 0.94 t: 2.34 p: 0.021 *\n",
            "mean: 0.29 std: 0.94 t: 3.09 p: 0.003 *\n",
            "mean: 0.35 std: 0.99 t: 3.52 p: 0.001 *\n",
            "mean: 0.04 std: 0.78 t: 0.52 p: 0.604 \n",
            "mean: 0.35 std: 0.99 t: 3.48 p: 0.001 *\n",
            "mean: 0.18 std: 1.02 t: 1.73 p: 0.087 \n",
            "mean: 0.26 std: 0.95 t: 2.73 p: 0.007 *\n",
            "mean: 0.12 std: 0.93 t: 1.26 p: 0.211 \n",
            "mean: 0.09 std: 0.95 t: 0.94 p: 0.350 \n",
            "mean: 0.38 std: 1.06 t: 3.62 p: 0.000 *\n",
            "mean: 0.06 std: 1.02 t: 0.55 p: 0.584 \n",
            "mean: 0.16 std: 0.92 t: 1.78 p: 0.078 \n",
            "mean: 0.26 std: 0.95 t: 2.72 p: 0.008 *\n",
            "mean: 0.19 std: 0.99 t: 1.93 p: 0.056 \n",
            "mean: 0.23 std: 0.97 t: 2.35 p: 0.021 *\n",
            "mean: 0.28 std: 1.05 t: 2.69 p: 0.008 *\n",
            "mean: 0.25 std: 1.03 t: 2.45 p: 0.016 *\n",
            "mean: 0.16 std: 0.87 t: 1.84 p: 0.069 \n",
            "mean: 0.20 std: 1.02 t: 1.92 p: 0.058 \n",
            "mean: 0.41 std: 0.98 t: 4.18 p: 0.000 *\n",
            "mean: 0.35 std: 0.96 t: 3.67 p: 0.000 *\n",
            "mean: 0.13 std: 0.95 t: 1.31 p: 0.193 \n",
            "mean: 0.20 std: 1.01 t: 1.96 p: 0.052 \n",
            "mean: 0.24 std: 0.89 t: 2.67 p: 0.009 *\n",
            "mean: 0.17 std: 0.81 t: 2.06 p: 0.042 *\n",
            "mean: 0.07 std: 0.91 t: 0.81 p: 0.420 \n",
            "mean: 0.14 std: 1.13 t: 1.19 p: 0.238 \n",
            "mean: 0.20 std: 0.98 t: 2.07 p: 0.041 *\n",
            "mean: 0.29 std: 1.07 t: 2.66 p: 0.009 *\n",
            "mean: 0.24 std: 1.02 t: 2.34 p: 0.021 *\n",
            "mean: 0.11 std: 1.00 t: 1.12 p: 0.264 \n",
            "mean: 0.12 std: 1.01 t: 1.19 p: 0.237 \n",
            "mean: 0.38 std: 1.17 t: 3.26 p: 0.002 *\n",
            "mean: 0.16 std: 1.02 t: 1.60 p: 0.113 \n",
            "mean: 0.22 std: 1.09 t: 2.02 p: 0.046 *\n",
            "mean: 0.24 std: 1.09 t: 2.21 p: 0.029 *\n",
            "mean: 0.20 std: 0.94 t: 2.13 p: 0.036 *\n",
            "mean: 0.16 std: 0.95 t: 1.67 p: 0.098 \n",
            "mean: 0.08 std: 0.88 t: 0.94 p: 0.351 \n",
            "mean: 0.14 std: 0.95 t: 1.42 p: 0.159 \n",
            "mean: 0.20 std: 1.04 t: 1.94 p: 0.055 \n",
            "mean: 0.30 std: 0.97 t: 3.09 p: 0.003 *\n",
            "mean: 0.22 std: 0.92 t: 2.38 p: 0.019 *\n",
            "mean: -0.08 std: 0.99 t: -0.80 p: 0.425 \n",
            "50\n"
          ]
        }
      ],
      "source": [
        "num_4 = 0\n",
        "\n",
        "for i in range (100):\n",
        "  sample = np.random.normal(0.2, 1, 100)\n",
        "  test_result = ttest_1samp(sample, popmean=0)\n",
        "  print(\"mean: {:.2f} std: {:.2f} t: {:.2f} p: {:.3f} {}\".format(sample.mean(),\n",
        "                                                               sample.std(),\n",
        "                                                               test_result.statistic,\n",
        "                                                               test_result.pvalue,\n",
        "                                                               \"*\" if test_result.pvalue <= 0.05 else \"\"))\n",
        "  if test_result.pvalue <= 0.05:\n",
        "    num_4 += 1\n",
        "  \n",
        "print(num_4)"
      ]
    },
    {
      "cell_type": "markdown",
      "id": "38caa241",
      "metadata": {
        "id": "38caa241"
      },
      "source": [
        "**Answer here**\n",
        "\n",
        "*   When I run the code for 100 times, I could 50 significance in the result.\n"
      ]
    },
    {
      "cell_type": "markdown",
      "id": "8c8bea01",
      "metadata": {
        "id": "8c8bea01"
      },
      "source": [
        "Discuss the relationship between the *effect size* (in this case, the difference between the true mean and 0.0) and the *sample size*."
      ]
    },
    {
      "cell_type": "markdown",
      "id": "8e6764e8",
      "metadata": {
        "id": "8e6764e8"
      },
      "source": [
        "**Answer here:**\n",
        "\n",
        "Taken together, when sample mean was 0.6 it shows higher probability for significance than 0.2 of sample mean. On the other hand, when the observations grow in 0.2 sample mean, the significance also shows higher probability. When thinking of effective size means that the scale of difference between true mean and sample mean, high effective size allows to sh It helps to find better sample size in the different means. \n"
      ]
    },
    {
      "cell_type": "markdown",
      "id": "c1e5d85d",
      "metadata": {
        "id": "c1e5d85d"
      },
      "source": [
        "## Part 4: Distributions of p-values (15 points)\n",
        "\n",
        "We can also repeat these simulated experiments many more times. Fill in the two missing code lines and run the simulation 1000 times.\n",
        "\n",
        "Look at the distribution of p-values when the null hypothesis is true (ie actual mean = 0).\n",
        "\n",
        "Now re-run the experiment where the null hypothesis is not true. Try three values of actual mean and sample size, and see how the distribution of p-values changes."
      ]
    },
    {
      "cell_type": "code",
      "execution_count": null,
      "id": "f610dfd6",
      "metadata": {
        "id": "f610dfd6",
        "colab": {
          "base_uri": "https://localhost:8080/",
          "height": 625
        },
        "outputId": "f322be0e-f8bc-445c-f079-c718ae692e7b"
      },
      "outputs": [
        {
          "output_type": "stream",
          "name": "stdout",
          "text": [
            "number of significant results: 49\n"
          ]
        },
        {
          "output_type": "display_data",
          "data": {
            "text/plain": [
              "<Figure size 1080x720 with 4 Axes>"
            ],
            "image/png": "[encoded data removed]"
          },
          "metadata": {
            "needs_background": "light"
          }
        }
      ],
      "source": [
        "results = []\n",
        "\n",
        "actual_mean = 0.0\n",
        "sample_size = 30\n",
        "\n",
        "for i in range(1000): \n",
        "  sample = np.random.normal(loc=actual_mean, scale=1, size=sample_size)\n",
        "  test_result= ttest_1samp(sample, popmean=0)\n",
        "  results.append(( sample.mean(), sample.std(), test_result.statistic, test_result.pvalue))\n",
        "\n",
        "test_results = pd.DataFrame(results, columns=[\"Mean\", \"Std\", \"t\", \"p\"])\n",
        "critical_value = 0.05\n",
        "print(\"number of significant results:\", np.sum(test_results[\"p\"] < critical_value))\n",
        "\n",
        "test_results.hist(figsize=(15,10), bins=30)\n",
        "pyplot.show()"
      ]
    },
    {
      "cell_type": "code",
      "source": [
        "results = []\n",
        "\n",
        "actual_mean = -.2\n",
        "sample_size = 30\n",
        "\n",
        "for i in range(1000): \n",
        "  sample = np.random.normal(loc=actual_mean, scale=1, size=sample_size)\n",
        "  test_result= ttest_1samp(sample, popmean=0)\n",
        "  results.append(( sample.mean(), sample.std(), test_result.statistic, test_result.pvalue))\n",
        "\n",
        "test_results = pd.DataFrame(results, columns=[\"Mean\", \"Std\", \"t\", \"p\"])\n",
        "critical_value = 0.05\n",
        "print(\"number of significant results:\", np.sum(test_results[\"p\"] < critical_value))\n",
        "\n",
        "test_results.hist(figsize=(15,10), bins=30)\n",
        "pyplot.show()"
      ],
      "metadata": {
        "colab": {
          "base_uri": "https://localhost:8080/",
          "height": 625
        },
        "id": "neoiGX9NmeF_",
        "outputId": "605d6002-6e83-4082-f6c8-cc00ded24eb3"
      },
      "id": "neoiGX9NmeF_",
      "execution_count": null,
      "outputs": [
        {
          "output_type": "stream",
          "name": "stdout",
          "text": [
            "number of significant results: 173\n"
          ]
        },
        {
          "output_type": "display_data",
          "data": {
            "text/plain": [
              "<Figure size 1080x720 with 4 Axes>"
            ],
            "image/png": "[encoded data removed]"
          },
          "metadata": {
            "needs_background": "light"
          }
        }
      ]
    },
    {
      "cell_type": "code",
      "source": [
        "results = []\n",
        "\n",
        "actual_mean = -.8\n",
        "sample_size = 30\n",
        "\n",
        "for i in range(1000): \n",
        "  sample = np.random.normal(loc=actual_mean, scale=1, size=sample_size)\n",
        "  test_result= ttest_1samp(sample, popmean=0)\n",
        "  results.append(( sample.mean(), sample.std(), test_result.statistic, test_result.pvalue))\n",
        "\n",
        "test_results = pd.DataFrame(results, columns=[\"Mean\", \"Std\", \"t\", \"p\"])\n",
        "critical_value = 0.05\n",
        "print(\"number of significant results:\", np.sum(test_results[\"p\"] < critical_value))\n",
        "\n",
        "test_results.hist(figsize=(15,10), bins=30)\n",
        "pyplot.show()"
      ],
      "metadata": {
        "colab": {
          "base_uri": "https://localhost:8080/",
          "height": 625
        },
        "id": "Ig8Eaq4vsfYK",
        "outputId": "c95f2100-18ac-4b9f-ff53-931c3d1fd01d"
      },
      "id": "Ig8Eaq4vsfYK",
      "execution_count": null,
      "outputs": [
        {
          "output_type": "stream",
          "name": "stdout",
          "text": [
            "number of significant results: 989\n"
          ]
        },
        {
          "output_type": "display_data",
          "data": {
            "text/plain": [
              "<Figure size 1080x720 with 4 Axes>"
            ],
            "image/png": "[encoded data removed]"
          },
          "metadata": {
            "needs_background": "light"
          }
        }
      ]
    },
    {
      "cell_type": "code",
      "source": [
        "results = []\n",
        "\n",
        "actual_mean = -.2\n",
        "sample_size = 500\n",
        "\n",
        "for i in range(1000): \n",
        "  sample = np.random.normal(loc=actual_mean, scale=1, size=sample_size)\n",
        "  test_result= ttest_1samp(sample, popmean=0)\n",
        "  results.append(( sample.mean(), sample.std(), test_result.statistic, test_result.pvalue))\n",
        "\n",
        "test_results = pd.DataFrame(results, columns=[\"Mean\", \"Std\", \"t\", \"p\"])\n",
        "critical_value = 0.05\n",
        "print(\"number of significant results:\", np.sum(test_results[\"p\"] < critical_value))\n",
        "\n",
        "test_results.hist(figsize=(15,10), bins=30)\n",
        "pyplot.show()"
      ],
      "metadata": {
        "colab": {
          "base_uri": "https://localhost:8080/",
          "height": 625
        },
        "id": "0ZOB-_5fmRpC",
        "outputId": "5647136f-21cf-4ff1-a596-5d53a247ff96"
      },
      "id": "0ZOB-_5fmRpC",
      "execution_count": null,
      "outputs": [
        {
          "output_type": "stream",
          "name": "stdout",
          "text": [
            "number of significant results: 994\n"
          ]
        },
        {
          "output_type": "display_data",
          "data": {
            "text/plain": [
              "<Figure size 1080x720 with 4 Axes>"
            ],
            "image/png": "[encoded data removed]"
          },
          "metadata": {
            "needs_background": "light"
          }
        }
      ]
    },
    {
      "cell_type": "markdown",
      "id": "ab259bbe",
      "metadata": {
        "id": "ab259bbe"
      },
      "source": [
        "Assume that you know the true distribution, but not the p-value for an experiment.\n",
        "\n",
        "**Answer here:**\n",
        "\n",
        "\n",
        "If the null hypothesis is true, what range of p-values do you expect?\n",
        "\n",
        "*   In order not to reject null hypothesis, p-value should be over the critical value which is 0.05. As we rerun the codes above, the numbers of significant results were shown as 174, 989, and 994. Likewise, the probability is over 0.5 which means that is cannot reject null hypothesis. \n",
        "\n",
        "If the null hypothesis is *not* true, what p-values do you expect?\n",
        "\n",
        "*   In order to reject null hypothesis, the p-values should be less than critical values (0.05). As we have seen in the first code, the significant result number is 49 which is close to 0.05.  \n",
        "\n"
      ]
    },
    {
      "cell_type": "markdown",
      "id": "4ba15057",
      "metadata": {
        "id": "4ba15057"
      },
      "source": [
        "Now assume that you don't know the true distribution, but you have a p-value.\n",
        "\n",
        "**Answer here:**\n",
        "\n",
        "\n",
        "What can you say about the hypothesis if your p-value is 0.000038? What can you *not* say?\n",
        "\n",
        "*   It strongly rejects a null hypothesis as p-value is close to 0, but we can not say that null hypothesis is wrong. There are still possiblity for type 1 or type 2 errors as p-value is not 0.\n",
        "\n",
        "What can you say about the hypothesis if your p-value is 0.052? What can you *not* say? \n",
        "\n",
        "*   It also rejects a null hypothesis as p-value is less than 0.05. However, we cannot say it strongly evidences that the null hypothesis is rejected. "
      ]
    },
    {
      "cell_type": "markdown",
      "id": "69ef3974",
      "metadata": {
        "id": "69ef3974"
      },
      "source": [
        "## Part 5:  Permutation tests and two-sample t-tests (10 points)\n",
        "\n",
        "Next we'll look at a variation of the t-test that takes two arrays and asks if they have the same mean (null hypothesis) or different means (alternative hypothesis). The function is [ttest_ind](https://docs.scipy.org/doc/scipy/reference/generated/scipy.stats.ttest_ind.html#scipy.stats.ttest_ind) because we are comparing two *independent* samples: they can be of any size, and there doesn't have to be a match between elements of the two arrays. (This is opposed to a *paired* t test, where every value in one array has a \"buddy\" in the other array.)\n",
        "\n",
        "Previously we had to specify the population mean that we are testing against, but in the two-sample case we don't need to, since we're comparing one array's mean to another.\n",
        "\n",
        "Here you'll write the code yourself. Create two arrays, both from normal distributions with standard deviation 1.0 and size 15, but one with mean 0.0 and the other with mean (`loc`) 0.7. Then calculate the $p$-value for the two samples using [stats.ttest_ind](https://docs.scipy.org/doc/scipy/reference/generated/scipy.stats.ttest_ind.html#scipy.stats.ttest_ind)."
      ]
    },
    {
      "cell_type": "code",
      "execution_count": null,
      "id": "2b3967e4",
      "metadata": {
        "id": "2b3967e4",
        "colab": {
          "base_uri": "https://localhost:8080/"
        },
        "outputId": "ba956919-c779-4b4f-c8ce-20d393581224"
      },
      "outputs": [
        {
          "output_type": "stream",
          "name": "stdout",
          "text": [
            "Ttest_indResult(statistic=-0.7828627790250985, pvalue=0.44027912848836326)\n"
          ]
        }
      ],
      "source": [
        "# code here\n",
        "sample_a = np.random.normal(loc=0, scale=1.0, size=15)\n",
        "sample_b = np.random.normal(loc=0.7, scale=1.0, size=15)\n",
        "\n",
        "ttest_result = ttest_ind(sample_a, sample_b)\n",
        "print(ttest_result)"
      ]
    },
    {
      "cell_type": "markdown",
      "id": "dd4dc9e0",
      "metadata": {
        "id": "dd4dc9e0"
      },
      "source": [
        "Now compare this test to a permutation test. Use code similar to the bootstrap example above. Create an array of zeros of length 10000, and then use a for-loop to do the following 10000 times: create two permuted arrays from the two real arrays and record the absolute value of the difference between them.\n",
        "\n",
        "Now calculate the number of times you got a difference in means whose *absolute value* is greater than the actual difference in means you observed from your samples. Print this proportion. Describe how it compares with the p-value from the two-sample t-test above."
      ]
    },
    {
      "cell_type": "code",
      "source": [
        "# This function returns two new arrays that contain the elements of a and b, randomly shuffled between them\n",
        "def permute_two_arrays(a, b):\n",
        "    shuffled_array = np.concatenate([a, b])\n",
        "    np.random.shuffle(shuffled_array)\n",
        "    return (shuffled_array[:len(a)], shuffled_array[len(a):])\n",
        "\n",
        "permutation_data = np.zeros(10000)\n",
        "actual_substract = abs(sample_a.mean() - sample_b.mean())\n",
        "for i in range(10000):\n",
        "  resampled_a, resampled_b = permute_two_arrays(sample_a, sample_b)\n",
        "  permutation_data[i] = abs((resampled_a - resampled_b).mean())\n",
        "\n",
        "result = filter(lambda x: x > actual_substract, permutation_data)\n",
        "\n",
        "\n",
        "print(\"proportion: \", len(list(result)) / len(permutation_data))"
      ],
      "metadata": {
        "colab": {
          "base_uri": "https://localhost:8080/"
        },
        "id": "cMgbJM_1ctGC",
        "outputId": "bfd9b68a-4065-4893-d36e-476ec900e64e"
      },
      "id": "cMgbJM_1ctGC",
      "execution_count": null,
      "outputs": [
        {
          "output_type": "stream",
          "name": "stdout",
          "text": [
            "proportion:  0.4415\n"
          ]
        }
      ]
    },
    {
      "cell_type": "markdown",
      "id": "a6ac407b",
      "metadata": {
        "id": "a6ac407b"
      },
      "source": [
        "**Answer here**\n",
        "\n",
        "It is close to the result given from ttest (ttest pvalue= approx. 0.4402, permutation pvalue: 0.4415). However, t-test does not assume a normal distribution. On the other hand,  permutation test could assume normal distribution, as it shuffles 10000 time, which means that it has higher validity. \n",
        "\n"
      ]
    }
  ],
  "metadata": {
    "kernelspec": {
      "display_name": "Python 3 (ipykernel)",
      "language": "python",
      "name": "python3"
    },
    "language_info": {
      "codemirror_mode": {
        "name": "ipython",
        "version": 3
      },
      "file_extension": ".py",
      "mimetype": "text/x-python",
      "name": "python",
      "nbconvert_exporter": "python",
      "pygments_lexer": "ipython3",
      "version": "3.9.12"
    },
    "colab": {
      "provenance": [],
      "include_colab_link": true
    }
  },
  "nbformat": 4,
  "nbformat_minor": 5
}